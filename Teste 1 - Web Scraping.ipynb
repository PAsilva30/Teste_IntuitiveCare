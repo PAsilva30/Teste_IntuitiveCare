{
 "cells": [
  {
   "cell_type": "markdown",
   "id": "e2f3a3c6",
   "metadata": {},
   "source": [
    "Teste 1 -  Web Scraping\n",
    "-------------------------------------------------------------------------------------------------------------------------------\n",
    "#### Objetivos: \n",
    "1.1 - Acessar o site: https://www.gov.br/ans/pt-br/assuntos/consumidor/o-que-o-seu-plano-de-saude-deve-cobrir-1/o-que-e-o-rol-de-procedimentos-e-evento-em-saude\n",
    "\n",
    "1.2 - Baixar os Anexos I ao Anexo IV\n",
    "\n",
    "1.3 - Agrupar os anexos em um mesmo arquivo compactado (ZIP, RAR, ...)\n",
    "\n"
   ]
  },
  {
   "cell_type": "code",
   "execution_count": null,
   "id": "e8db11a9",
   "metadata": {},
   "outputs": [],
   "source": [
    "from zipfile import ZipFile\n",
    "from bs4 import BeautifulSoup\n",
    "import requests\n",
    "import os\n",
    "import re"
   ]
  },
  {
   "cell_type": "code",
   "execution_count": null,
   "id": "a49015c0",
   "metadata": {},
   "outputs": [],
   "source": [
    "url = \"https://www.gov.br/ans/pt-br/assuntos/consumidor/o-que-o-seu-plano-de-saude-deve-cobrir-1/o-que-e-o-rol-de-procedimentos-e-evento-em-saude\"\n",
    "def get_site(url): # Função para obter o html do site\n",
    "    site_txt = requests.get(url).text\n",
    "    site_organized = BeautifulSoup(site_txt, \"html.parser\") #Organiza o html em uma análise sintática com hierarquias \n",
    "    \n",
    "    return site_organized\n",
    "\n",
    "def get_links(): #Função para obter os links para downloads \n",
    "    site_organized = get_site(url)\n",
    "    list_file = site_organized.find_all('a',{'href':\n",
    "                    re.compile('https://www.gov.br/ans/pt-br/arquivos/assuntos/consumidor/o-que-seu-plano-deve-cobrir/Anexo_.*')})\n",
    "                    #re - regular expression, compila todos os links que tem essa estrutura no começo, (.*) significa qualquer\n",
    "                    #coisa que venha depois. \n",
    "    \n",
    "    links = list()\n",
    "    for link in list_file:\n",
    "        links.append(link.get('href'))\n",
    "    return links\n",
    "\n",
    "def baixar_arquivos(): #Função que pega a lista de links da função anterior e faz o download deles. \n",
    "    for link in get_links():\n",
    "        response = requests.get(link).content #Faz a requisição de cada link e pega o conteúdo deles (pdf, xlsx)\n",
    "        arquivo_path = os.path.join(os.path.basename(link)) #Definição do caminho (default é o diretorio do código) do arquivo \n",
    "                                                            #e o nome do arquivo\n",
    "    \n",
    "        with open(arquivo_path, \"wb\") as f: #Abrindo um arquivo atribuindo o caminho e nome do arquivo e o mode 'wb - Write Binary' \n",
    "                                            #porque os arquivos são do tipo(pdf, xlsx) não são textos simples \n",
    "            f.write(response) #Escrevendo no arquivo criado o conteudo da requisição anterior \n",
    "    print(\"Downloads concluídos\")\n",
    "\n",
    "def zipar_file():\n",
    "    with ZipFile(\"Teste1_Pedro_Afonso.zip\",\"w\") as myzip:\n",
    "        for file in os.listdir():\n",
    "            if file.startswith('Anexo'):\n",
    "                myzip.write(file)\n",
    "                os.remove(file)\n",
    "\n",
    "baixar_arquivos()\n",
    "zipar_file()"
   ]
  }
 ],
 "metadata": {
  "kernelspec": {
   "display_name": "Python 3 (ipykernel)",
   "language": "python",
   "name": "python3"
  },
  "language_info": {
   "codemirror_mode": {
    "name": "ipython",
    "version": 3
   },
   "file_extension": ".py",
   "mimetype": "text/x-python",
   "name": "python",
   "nbconvert_exporter": "python",
   "pygments_lexer": "ipython3",
   "version": "3.9.7"
  }
 },
 "nbformat": 4,
 "nbformat_minor": 5
}
