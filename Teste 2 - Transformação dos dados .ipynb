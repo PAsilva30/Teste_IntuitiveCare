{
 "cells": [
  {
   "attachments": {
    "image.png": {
     "image/png": "[encoded data removed]"
    }
   },
   "cell_type": "markdown",
   "id": "24b530fb",
   "metadata": {},
   "source": [
    "Teste 2 - Transformação de dados\n",
    "--------------------------------------------------------------------------\n",
    "#### Objetivos:\n",
    "1- Extrair do pdf do anexo I do teste 1 acima os dados da tabela Rol de Procedimentos e Eventos em Saúde (todas as páginas);\n",
    "\n",
    "2- Salvar dados em uma tabela estruturada, em csv;\n",
    "\n",
    "3- Zipar o csv num arquivo \"Teste_{seu_nome}.zip\".\n",
    "\n",
    "<> Bônus:\n",
    "Com a legenda no rodapé substituir os dados abreviados das colunas OD e AMB para as respectivas descrições.\n",
    "\n",
    "![image.png](attachment:image.png)\n"
   ]
  },
  {
   "cell_type": "code",
   "execution_count": 2,
   "id": "9cd25213",
   "metadata": {},
   "outputs": [],
   "source": [
    "from zipfile import ZipFile\n",
    "import pandas as pd\n",
    "import tabula\n",
    "import os"
   ]
  },
  {
   "cell_type": "code",
   "execution_count": 22,
   "id": "49b619c7",
   "metadata": {},
   "outputs": [
    {
     "name": "stdout",
     "output_type": "stream",
     "text": [
      "Programa Finalizado\n"
     ]
    }
   ],
   "source": [
    "url = \"https://www.gov.br/ans/pt-br/arquivos/assuntos/consumidor/o-que-seu-plano-deve-cobrir/Anexo_I_Rol_2021RN_465.2021_RN473_RN478_RN480_RN513_RN536.pdf\"\n",
    "file = \"Rol_de_procedimentos_e_eventos_em_saude.csv\"\n",
    "\n",
    "def get_file(url, file): #Função para obter o arquivo como pedido no <bônus> o arquivo pdf em um arquivo cvs\n",
    "    tabula.convert_into(url,file, output_format='csv', pages='all') # Converter o arquivo pdf em csv \n",
    "    \n",
    "    file_mod = pd.read_csv(file, encoding='ISO-8859-1',on_bad_lines='skip') #Ler o arquivo csv, ISO-LATIN-1(ISO-8859-1)\n",
    "                                                                            #é o conjunto de caracteres padrão da maioria dos navegadores        \n",
    "                                                                            #on_bad_lines se caso essas \"linhas ruins\" for True pular elas.\n",
    "            \n",
    "    file_mod.rename(columns={'OD':'Seg.Odontologica','AMB':'Seg.Ambulatorial'},inplace=True) #Renomeando as variáveis\n",
    "    file_mod = file_mod.loc[~(file_mod.PROCEDIMENTO=='PROCEDIMENTO')].reset_index(drop=True) #Filtrando dados (tirando cabeçalho)\n",
    "    file_mod.to_csv(file,sep=\";\") #Transformando o arquivo novamente para csv\n",
    "    print('Programa Finalizado')\n",
    "    \n",
    "def zipar_file():\n",
    "    with ZipFile(\"Teste2_Pedro_Afonso.zip\",\"w\") as myzip:\n",
    "        for file in os.listdir():\n",
    "            if file.startswith('Rol'):\n",
    "                myzip.write(file)\n",
    "                os.remove(file)\n",
    "\n",
    "get_file(url,file)\n",
    "zipar_file()"
   ]
  },
  {
   "cell_type": "code",
   "execution_count": null,
   "id": "0d38a42c",
   "metadata": {},
   "outputs": [],
   "source": []
  }
 ],
 "metadata": {
  "kernelspec": {
   "display_name": "Python 3 (ipykernel)",
   "language": "python",
   "name": "python3"
  },
  "language_info": {
   "codemirror_mode": {
    "name": "ipython",
    "version": 3
   },
   "file_extension": ".py",
   "mimetype": "text/x-python",
   "name": "python",
   "nbconvert_exporter": "python",
   "pygments_lexer": "ipython3",
   "version": "3.9.7"
  }
 },
 "nbformat": 4,
 "nbformat_minor": 5
}
